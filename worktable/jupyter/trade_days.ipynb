{
 "cells": [
  {
   "cell_type": "code",
   "execution_count": 1,
   "metadata": {},
   "outputs": [],
   "source": [
    "import sys\n",
    "sys.path.append(\"D:\\\\vnpy\\\\vnpy2_pro\")"
   ]
  },
  {
   "cell_type": "code",
   "execution_count": 2,
   "metadata": {},
   "outputs": [],
   "source": [
    "from datetime import datetime\n",
    "\n",
    "import pandas as pd\n",
    "\n",
    "from vnpy.trader.database import database_manager\n",
    "from vnpy.trader.constant import Exchange, Interval\n",
    "\n",
    "data = database_manager.load_bar_data(\n",
    "    symbol=\"AG99\",\n",
    "    exchange=Exchange.SHFE,\n",
    "    interval=Interval.DAILY,\n",
    "    start=datetime(2020,1,1),\n",
    "    end=datetime(2020,12,12)\n",
    ")"
   ]
  },
  {
   "cell_type": "code",
   "execution_count": 15,
   "metadata": {},
   "outputs": [
    {
     "name": "stdout",
     "output_type": "stream",
     "text": [
      "0.7168674698795181\n",
      "0.6746987951807228\n"
     ]
    }
   ],
   "source": [
    "# 涨跌幅度统计\n",
    "up_list = []\n",
    "down_list = []\n",
    "range_list = []\n",
    "\n",
    "count = 0\n",
    "for bar_data in data:\n",
    "    count += 1\n",
    "    range_list.append(bar_data.high_price - bar_data.low_price)\n",
    "    up_list.append(bar_data.high_price - bar_data.open_price)\n",
    "    down_list.append(bar_data.open_price - bar_data.low_price)\n",
    "    \n",
    "\n",
    "up_list = sorted(up_list)\n",
    "down_list = sorted(down_list)\n",
    "range_list = sorted(range_list)\n",
    "\n",
    "up_count = 0\n",
    "for item in up_list:\n",
    "    if item > 16:\n",
    "        up_count += 1\n",
    "        \n",
    "down_count = 0\n",
    "for item in down_list:\n",
    "    if item > 16:\n",
    "        down_count += 1\n",
    "        \n",
    "print(up_count/count)\n",
    "print(down_count/count)\n",
    "\n",
    "# print(up_list)\n",
    "# print(down_list)\n",
    "# print(range_list)"
   ]
  },
  {
   "cell_type": "code",
   "execution_count": 3,
   "metadata": {
    "scrolled": false
   },
   "outputs": [
    {
     "name": "stdout",
     "output_type": "stream",
     "text": [
      "166\n",
      "{'1': 47, '2': 19, '3': 9, '4': 5, '8': 2, '6': 2, '5': 1}\n"
     ]
    }
   ],
   "source": [
    "# 连涨连跌统计\n",
    "data_dict = {}\n",
    "bar_count = 0\n",
    "\n",
    "lock = 0\n",
    "count = 0\n",
    "\n",
    "for bar_data in data:\n",
    "    bar_count += 1\n",
    "    \n",
    "    if bar_data.close_price > bar_data.open_price:\n",
    "        if lock == 0:\n",
    "            count = 1\n",
    "            lock = 1\n",
    "        elif lock == 1:\n",
    "            count += 1\n",
    "        elif  lock == -1:\n",
    "            data_dict.setdefault(str(count), 0)\n",
    "            data_dict[str(count)] += 1\n",
    "            \n",
    "            lock = 1\n",
    "            count = 1\n",
    "            \n",
    "        \n",
    "        \n",
    "    elif bar_data.close_price < bar_data.open_price:\n",
    "        if lock == 0:\n",
    "            count = 1\n",
    "            lock = -1\n",
    "        elif lock == -1:\n",
    "            count += 1\n",
    "        elif lock == 1:\n",
    "            data_dict.setdefault(str(count), 0)\n",
    "            data_dict[str(count)] += 1\n",
    "            \n",
    "            lock = -1\n",
    "            count = 1\n",
    "        \n",
    "    else:\n",
    "        up_or_down = 0\n",
    "        count = 0\n",
    "\n",
    "print(bar_count)\n",
    "print(data_dict)\n",
    "\n"
   ]
  },
  {
   "cell_type": "code",
   "execution_count": 4,
   "metadata": {},
   "outputs": [
    {
     "name": "stdout",
     "output_type": "stream",
     "text": [
      "星期1  up : 0.52  down : 0.48\n",
      "星期2  up : 0.55  down : 0.45\n",
      "星期3  up : 0.59  down : 0.41\n",
      "星期4  up : 0.44  down : 0.56\n",
      "星期5  up : 0.53  down : 0.47\n"
     ]
    }
   ],
   "source": [
    "# 周交易日统计\n",
    "weekday_dict = {\n",
    "            \"0\": {\"count\": 0, \"up\": 0, \"down\": 0, \"flat\":0},\n",
    "            \"1\": {\"count\": 0, \"up\": 0, \"down\": 0, \"flat\":0},\n",
    "            \"2\": {\"count\": 0, \"up\": 0, \"down\": 0, \"flat\":0},\n",
    "            \"3\": {\"count\": 0, \"up\": 0, \"down\": 0, \"flat\":0},\n",
    "            \"4\": {\"count\": 0, \"up\": 0, \"down\": 0, \"flat\":0},\n",
    "}\n",
    "\n",
    "for bar_data in data:\n",
    "    weekday = bar_data.datetime.weekday()\n",
    "    \n",
    "    weekday_dict[str(weekday)][\"count\"] += 1\n",
    "    if bar_data.close_price > bar_data.open_price:\n",
    "        weekday_dict[str(weekday)][\"up\"] += 1\n",
    "    elif bar_data.close_price < bar_data.open_price:\n",
    "        weekday_dict[str(weekday)][\"down\"] += 1\n",
    "    else:\n",
    "        weekday_dict[str(weekday)][\"flat\"] += 1\n",
    "\n",
    "for key, item in weekday_dict.items():\n",
    "    print(f\"星期{int(key) + 1}  up : {round(item['up']/item['count'], 2)}  down : {round(item['down']/item['count'], 2)}\")\n",
    "#     print(item)"
   ]
  },
  {
   "cell_type": "code",
   "execution_count": null,
   "metadata": {},
   "outputs": [],
   "source": []
  }
 ],
 "metadata": {
  "kernelspec": {
   "display_name": "Python 3",
   "language": "python",
   "name": "python3"
  },
  "language_info": {
   "codemirror_mode": {
    "name": "ipython",
    "version": 3
   },
   "file_extension": ".py",
   "mimetype": "text/x-python",
   "name": "python",
   "nbconvert_exporter": "python",
   "pygments_lexer": "ipython3",
   "version": "3.7.7"
  }
 },
 "nbformat": 4,
 "nbformat_minor": 4
}
